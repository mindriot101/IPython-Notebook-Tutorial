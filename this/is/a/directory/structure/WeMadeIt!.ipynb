{
 "metadata": {
  "name": "",
  "signature": "sha256:4a2dd82ec372aed9599579c774020f7c8822e32326b58e54bea1b61aa0aba938"
 },
 "nbformat": 3,
 "nbformat_minor": 0,
 "worksheets": [
  {
   "cells": [
    {
     "cell_type": "heading",
     "level": 1,
     "metadata": {},
     "source": [
      "Woot!"
     ]
    }
   ],
   "metadata": {}
  }
 ]
}