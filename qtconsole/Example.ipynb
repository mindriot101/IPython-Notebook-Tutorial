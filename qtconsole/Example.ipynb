{
 "metadata": {
  "name": "",
  "signature": "sha256:9d30f07e5aa712db02ae93e24b34e5312592960c55a03d22cce1946a9b492081"
 },
 "nbformat": 3,
 "nbformat_minor": 0,
 "worksheets": [
  {
   "cells": [
    {
     "cell_type": "code",
     "collapsed": false,
     "input": [
      "%qtconsole"
     ],
     "language": "python",
     "metadata": {},
     "outputs": []
    }
   ],
   "metadata": {}
  }
 ]
}