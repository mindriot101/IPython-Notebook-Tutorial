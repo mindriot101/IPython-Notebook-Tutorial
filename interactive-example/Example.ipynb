{
 "metadata": {
  "name": "",
  "signature": "sha256:b574d3752499ade632173051857ca111ae826d08b976f7f60e2b6605d440f723"
 },
 "nbformat": 3,
 "nbformat_minor": 0,
 "worksheets": [
  {
   "cells": [
    {
     "cell_type": "markdown",
     "metadata": {},
     "source": [
      "# Interactivity\n",
      "\n",
      "First we import some functions from `IPython.html.widgets` and `IPython.display`"
     ]
    },
    {
     "cell_type": "code",
     "collapsed": false,
     "input": [
      "from IPython.html.widgets import interact, interactive, fixed #\u00a0new in IPython3: interactive_manual\n",
      "from IPython.html import widgets\n",
      "from IPython.display import clear_output, display, HTML"
     ],
     "language": "python",
     "metadata": {},
     "outputs": [],
     "prompt_number": 3
    },
    {
     "cell_type": "markdown",
     "metadata": {},
     "source": [
      "A function to demonstrate interactivity, that simply prints a HTML table of the keyword arguments passed into the function"
     ]
    },
    {
     "cell_type": "code",
     "collapsed": false,
     "input": [
      "def show_args(**kwargs):\n",
      "    keys = sorted(kwargs.keys())\n",
      "    s = '<h3>Arguments:</h3><table>\\n'\n",
      "    for k in keys:\n",
      "        v = kwargs[k]\n",
      "        s += '<tr><td>{0}</td><td>{1}</td></tr>\\n'.format(k,v)\n",
      "    s += '</table>'\n",
      "    display(HTML(s))"
     ],
     "language": "python",
     "metadata": {},
     "outputs": [],
     "prompt_number": 13
    },
    {
     "cell_type": "code",
     "collapsed": false,
     "input": [
      "show_args(Current=2.6, Text=\"Hello world!\", z=True, Temp=4, Algorithm='This', a=0.5)"
     ],
     "language": "python",
     "metadata": {},
     "outputs": [
      {
       "html": [
        "<h3>Arguments:</h3><table>\n",
        "<tr><td>Algorithm</td><td>This</td></tr>\n",
        "<tr><td>Current</td><td>2.6</td></tr>\n",
        "<tr><td>Temp</td><td>4</td></tr>\n",
        "<tr><td>Text</td><td>Hello world!</td></tr>\n",
        "<tr><td>a</td><td>0.5</td></tr>\n",
        "<tr><td>z</td><td>True</td></tr>\n",
        "</table>"
       ],
       "metadata": {},
       "output_type": "display_data",
       "text": [
        "<IPython.core.display.HTML at 0x104eb8518>"
       ]
      }
     ],
     "prompt_number": 16
    },
    {
     "cell_type": "markdown",
     "metadata": {},
     "source": [
      "Now we wrap this in a call to `interact`"
     ]
    },
    {
     "cell_type": "code",
     "collapsed": false,
     "input": [
      "i = interact(show_args,\n",
      "         Temp=(0,10),\n",
      "         Current=(0.,10.,0.01),\n",
      "         z=True,\n",
      "         Text=u'Type here!',\n",
      "         Algorithm=['This','That','Other'],\n",
      "         a=widgets.FloatSliderWidget(min=-10.0, max=10.0, step=0.1, value=5.0)\n",
      "         )"
     ],
     "language": "python",
     "metadata": {},
     "outputs": [
      {
       "html": [
        "<h3>Arguments:</h3><table>\n",
        "<tr><td>Algorithm</td><td>This</td></tr>\n",
        "<tr><td>Current</td><td>4.99</td></tr>\n",
        "<tr><td>Temp</td><td>5</td></tr>\n",
        "<tr><td>Text</td><td>Type here!</td></tr>\n",
        "<tr><td>a</td><td>5.0</td></tr>\n",
        "<tr><td>z</td><td>True</td></tr>\n",
        "</table>"
       ],
       "metadata": {},
       "output_type": "display_data",
       "text": [
        "<IPython.core.display.HTML at 0x106242278>"
       ]
      }
     ],
     "prompt_number": 17
    },
    {
     "cell_type": "markdown",
     "metadata": {},
     "source": [
      "Problem: reloading the cell resets the values picked :("
     ]
    }
   ],
   "metadata": {}
  }
 ]
}